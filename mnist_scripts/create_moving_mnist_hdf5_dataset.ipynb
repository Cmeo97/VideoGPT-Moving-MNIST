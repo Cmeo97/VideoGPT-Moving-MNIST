{
 "cells": [
  {
   "cell_type": "code",
   "execution_count": 1,
   "metadata": {},
   "outputs": [],
   "source": [
    "from torchvision.datasets import MovingMNIST"
   ]
  },
  {
   "cell_type": "code",
   "execution_count": 2,
   "metadata": {},
   "outputs": [],
   "source": [
    "split_ratio=19"
   ]
  },
  {
   "cell_type": "code",
   "execution_count": 3,
   "metadata": {},
   "outputs": [],
   "source": [
    "dataset = MovingMNIST(root='../data', split=\"train\", download=True, split_ratio=split_ratio)"
   ]
  },
  {
   "cell_type": "code",
   "execution_count": 29,
   "metadata": {},
   "outputs": [],
   "source": [
    "dataset = MovingMNIST(root='../datasets', split=None, download=True)\n",
    "val_percentage = 0.05\n"
   ]
  },
  {
   "cell_type": "code",
   "execution_count": 30,
   "metadata": {},
   "outputs": [],
   "source": [
    "import torch\n",
    "\n",
    "# Split the dataset into training and validation\n",
    "n_samples = len(dataset)\n",
    "n_val = int(val_percentage * n_samples)\n",
    "\n",
    "val_dataset, train_dataset = torch.utils.data.random_split(dataset, [n_val, n_samples - n_val])"
   ]
  },
  {
   "cell_type": "code",
   "execution_count": 36,
   "metadata": {},
   "outputs": [],
   "source": [
    "import numpy as np"
   ]
  },
  {
   "cell_type": "code",
   "execution_count": 38,
   "metadata": {},
   "outputs": [
    {
     "data": {
      "text/plain": [
       "(500, 20, 1, 64, 64)"
      ]
     },
     "execution_count": 38,
     "metadata": {},
     "output_type": "execute_result"
    }
   ],
   "source": [
    "np.array(val_dataset).shape"
   ]
  },
  {
   "cell_type": "code",
   "execution_count": 4,
   "metadata": {},
   "outputs": [],
   "source": [
    "# data is of shape Video frames (torch Tensor[T, C, H, W]). The T is the number of frames."
   ]
  },
  {
   "cell_type": "code",
   "execution_count": 34,
   "metadata": {},
   "outputs": [
    {
     "data": {
      "text/plain": [
       "(9500, torch.Size([20, 1, 64, 64]))"
      ]
     },
     "execution_count": 34,
     "metadata": {},
     "output_type": "execute_result"
    }
   ],
   "source": [
    "len(train_dataset), dataset[0].shape"
   ]
  },
  {
   "cell_type": "code",
   "execution_count": 33,
   "metadata": {},
   "outputs": [
    {
     "data": {
      "image/png": "[encoded data removed]",
      "text/plain": [
       "<Figure size 1500x300 with 19 Axes>"
      ]
     },
     "metadata": {},
     "output_type": "display_data"
    }
   ],
   "source": [
    "# Plot some examples from the dataset\n",
    "\n",
    "import matplotlib.pyplot as plt\n",
    "\n",
    "fig, axes = plt.subplots(1, split_ratio, figsize=(15, 3))\n",
    "for i in range(split_ratio):\n",
    "    axes[i].imshow(train_dataset[0][i][0], cmap='gray')\n",
    "    axes[i].axis('off')"
   ]
  },
  {
   "cell_type": "code",
   "execution_count": 6,
   "metadata": {},
   "outputs": [],
   "source": [
    "import h5py\n",
    "\n",
    "# Write the Moving MNIST dataset to a HDF5 file with the following format, without using .cumulative_sizes\n",
    "#     {\n",
    "#         'train_data': [B, H, W, 3] np.uint8,\n",
    "#         'train_idx': [B], np.int64 (start indexes for each video)\n",
    "#         'test_data': [B', H, W, 3] np.uint8,\n",
    "#         'test_idx': [B'], np.int64\n",
    "#     }\n",
    "#     where B is the number of training videos, H and W are the height and width of the video frames, and 3 is the number of channels (RGB).\n",
    "with h5py.File('moving_mnist.h5', 'w') as f:\n",
    "    # Flatten along index and time dimensions for train_data\n",
    "    train_data = dataset.data.view(-1, 64, 64, 1).numpy()\n",
    "    # Duplicate single gray value axis to 3 channels\n",
    "    import numpy as np\n",
    "    train_data = np.repeat(train_data, 3, axis=-1)\n",
    "    train_idx = np.arange(0, len(dataset) * split_ratio, split_ratio)\n",
    "    f.create_dataset('train_data', data=train_data)\n",
    "    f.create_dataset('train_idx', data=train_idx)\n",
    "    # Flatten along index and time dimensions for test_data\n",
    "    test_data = dataset.data.view(-1, 64, 64, 1).numpy()\n",
    "    # Duplicate single gray value axis to 3 channels\n",
    "    test_data = np.repeat(test_data, 3, axis=-1)\n",
    "    test_idx = np.arange(0, len(dataset) * split_ratio, split_ratio)\n",
    "    f.create_dataset('test_data', data=test_data)\n",
    "    f.create_dataset('test_idx', data=test_idx)"
   ]
  },
  {
   "cell_type": "code",
   "execution_count": 10,
   "metadata": {},
   "outputs": [
    {
     "data": {
      "text/plain": [
       "(19, 64, 64, 3)"
      ]
     },
     "execution_count": 10,
     "metadata": {},
     "output_type": "execute_result"
    }
   ],
   "source": [
    "xyz.shape"
   ]
  },
  {
   "cell_type": "code",
   "execution_count": 7,
   "metadata": {},
   "outputs": [],
   "source": [
    "xyz = train_data[:19]"
   ]
  },
  {
   "cell_type": "code",
   "execution_count": 14,
   "metadata": {},
   "outputs": [],
   "source": [
    "from videogpt import VQVAE, VideoData"
   ]
  },
  {
   "cell_type": "code",
   "execution_count": 43,
   "metadata": {},
   "outputs": [
    {
     "data": {
      "text/plain": [
       "VQVAE(\n",
       "  (encoder): Encoder(\n",
       "    (convs): ModuleList(\n",
       "      (0): SamePadConv3d(\n",
       "        (conv): Conv3d(3, 240, kernel_size=(4, 4, 4), stride=(2, 2, 2))\n",
       "      )\n",
       "      (1): SamePadConv3d(\n",
       "        (conv): Conv3d(240, 240, kernel_size=(4, 4, 4), stride=(2, 2, 2))\n",
       "      )\n",
       "    )\n",
       "    (conv_last): SamePadConv3d(\n",
       "      (conv): Conv3d(240, 240, kernel_size=(3, 3, 3), stride=(1, 1, 1))\n",
       "    )\n",
       "    (res_stack): Sequential(\n",
       "      (0): AttentionResidualBlock(\n",
       "        (block): Sequential(\n",
       "          (0): BatchNorm3d(240, eps=1e-05, momentum=0.1, affine=True, track_running_stats=True)\n",
       "          (1): ReLU()\n",
       "          (2): SamePadConv3d(\n",
       "            (conv): Conv3d(240, 120, kernel_size=(3, 3, 3), stride=(1, 1, 1), bias=False)\n",
       "          )\n",
       "          (3): BatchNorm3d(120, eps=1e-05, momentum=0.1, affine=True, track_running_stats=True)\n",
       "          (4): ReLU()\n",
       "          (5): SamePadConv3d(\n",
       "            (conv): Conv3d(120, 240, kernel_size=(1, 1, 1), stride=(1, 1, 1), bias=False)\n",
       "          )\n",
       "          (6): BatchNorm3d(240, eps=1e-05, momentum=0.1, affine=True, track_running_stats=True)\n",
       "          (7): ReLU()\n",
       "          (8): AxialBlock(\n",
       "            (attn_w): MultiHeadAttention(\n",
       "              (w_qs): Linear(in_features=240, out_features=240, bias=False)\n",
       "              (w_ks): Linear(in_features=240, out_features=240, bias=False)\n",
       "              (w_vs): Linear(in_features=240, out_features=240, bias=False)\n",
       "              (fc): Linear(in_features=240, out_features=240, bias=True)\n",
       "              (attn): AxialAttention()\n",
       "            )\n",
       "            (attn_h): MultiHeadAttention(\n",
       "              (w_qs): Linear(in_features=240, out_features=240, bias=False)\n",
       "              (w_ks): Linear(in_features=240, out_features=240, bias=False)\n",
       "              (w_vs): Linear(in_features=240, out_features=240, bias=False)\n",
       "              (fc): Linear(in_features=240, out_features=240, bias=True)\n",
       "              (attn): AxialAttention()\n",
       "            )\n",
       "            (attn_t): MultiHeadAttention(\n",
       "              (w_qs): Linear(in_features=240, out_features=240, bias=False)\n",
       "              (w_ks): Linear(in_features=240, out_features=240, bias=False)\n",
       "              (w_vs): Linear(in_features=240, out_features=240, bias=False)\n",
       "              (fc): Linear(in_features=240, out_features=240, bias=True)\n",
       "              (attn): AxialAttention()\n",
       "            )\n",
       "          )\n",
       "        )\n",
       "      )\n",
       "      (1): AttentionResidualBlock(\n",
       "        (block): Sequential(\n",
       "          (0): BatchNorm3d(240, eps=1e-05, momentum=0.1, affine=True, track_running_stats=True)\n",
       "          (1): ReLU()\n",
       "          (2): SamePadConv3d(\n",
       "            (conv): Conv3d(240, 120, kernel_size=(3, 3, 3), stride=(1, 1, 1), bias=False)\n",
       "          )\n",
       "          (3): BatchNorm3d(120, eps=1e-05, momentum=0.1, affine=True, track_running_stats=True)\n",
       "          (4): ReLU()\n",
       "          (5): SamePadConv3d(\n",
       "            (conv): Conv3d(120, 240, kernel_size=(1, 1, 1), stride=(1, 1, 1), bias=False)\n",
       "          )\n",
       "          (6): BatchNorm3d(240, eps=1e-05, momentum=0.1, affine=True, track_running_stats=True)\n",
       "          (7): ReLU()\n",
       "          (8): AxialBlock(\n",
       "            (attn_w): MultiHeadAttention(\n",
       "              (w_qs): Linear(in_features=240, out_features=240, bias=False)\n",
       "              (w_ks): Linear(in_features=240, out_features=240, bias=False)\n",
       "              (w_vs): Linear(in_features=240, out_features=240, bias=False)\n",
       "              (fc): Linear(in_features=240, out_features=240, bias=True)\n",
       "              (attn): AxialAttention()\n",
       "            )\n",
       "            (attn_h): MultiHeadAttention(\n",
       "              (w_qs): Linear(in_features=240, out_features=240, bias=False)\n",
       "              (w_ks): Linear(in_features=240, out_features=240, bias=False)\n",
       "              (w_vs): Linear(in_features=240, out_features=240, bias=False)\n",
       "              (fc): Linear(in_features=240, out_features=240, bias=True)\n",
       "              (attn): AxialAttention()\n",
       "            )\n",
       "            (attn_t): MultiHeadAttention(\n",
       "              (w_qs): Linear(in_features=240, out_features=240, bias=False)\n",
       "              (w_ks): Linear(in_features=240, out_features=240, bias=False)\n",
       "              (w_vs): Linear(in_features=240, out_features=240, bias=False)\n",
       "              (fc): Linear(in_features=240, out_features=240, bias=True)\n",
       "              (attn): AxialAttention()\n",
       "            )\n",
       "          )\n",
       "        )\n",
       "      )\n",
       "      (2): BatchNorm3d(240, eps=1e-05, momentum=0.1, affine=True, track_running_stats=True)\n",
       "      (3): ReLU()\n",
       "    )\n",
       "  )\n",
       "  (decoder): Decoder(\n",
       "    (res_stack): Sequential(\n",
       "      (0): AttentionResidualBlock(\n",
       "        (block): Sequential(\n",
       "          (0): BatchNorm3d(240, eps=1e-05, momentum=0.1, affine=True, track_running_stats=True)\n",
       "          (1): ReLU()\n",
       "          (2): SamePadConv3d(\n",
       "            (conv): Conv3d(240, 120, kernel_size=(3, 3, 3), stride=(1, 1, 1), bias=False)\n",
       "          )\n",
       "          (3): BatchNorm3d(120, eps=1e-05, momentum=0.1, affine=True, track_running_stats=True)\n",
       "          (4): ReLU()\n",
       "          (5): SamePadConv3d(\n",
       "            (conv): Conv3d(120, 240, kernel_size=(1, 1, 1), stride=(1, 1, 1), bias=False)\n",
       "          )\n",
       "          (6): BatchNorm3d(240, eps=1e-05, momentum=0.1, affine=True, track_running_stats=True)\n",
       "          (7): ReLU()\n",
       "          (8): AxialBlock(\n",
       "            (attn_w): MultiHeadAttention(\n",
       "              (w_qs): Linear(in_features=240, out_features=240, bias=False)\n",
       "              (w_ks): Linear(in_features=240, out_features=240, bias=False)\n",
       "              (w_vs): Linear(in_features=240, out_features=240, bias=False)\n",
       "              (fc): Linear(in_features=240, out_features=240, bias=True)\n",
       "              (attn): AxialAttention()\n",
       "            )\n",
       "            (attn_h): MultiHeadAttention(\n",
       "              (w_qs): Linear(in_features=240, out_features=240, bias=False)\n",
       "              (w_ks): Linear(in_features=240, out_features=240, bias=False)\n",
       "              (w_vs): Linear(in_features=240, out_features=240, bias=False)\n",
       "              (fc): Linear(in_features=240, out_features=240, bias=True)\n",
       "              (attn): AxialAttention()\n",
       "            )\n",
       "            (attn_t): MultiHeadAttention(\n",
       "              (w_qs): Linear(in_features=240, out_features=240, bias=False)\n",
       "              (w_ks): Linear(in_features=240, out_features=240, bias=False)\n",
       "              (w_vs): Linear(in_features=240, out_features=240, bias=False)\n",
       "              (fc): Linear(in_features=240, out_features=240, bias=True)\n",
       "              (attn): AxialAttention()\n",
       "            )\n",
       "          )\n",
       "        )\n",
       "      )\n",
       "      (1): AttentionResidualBlock(\n",
       "        (block): Sequential(\n",
       "          (0): BatchNorm3d(240, eps=1e-05, momentum=0.1, affine=True, track_running_stats=True)\n",
       "          (1): ReLU()\n",
       "          (2): SamePadConv3d(\n",
       "            (conv): Conv3d(240, 120, kernel_size=(3, 3, 3), stride=(1, 1, 1), bias=False)\n",
       "          )\n",
       "          (3): BatchNorm3d(120, eps=1e-05, momentum=0.1, affine=True, track_running_stats=True)\n",
       "          (4): ReLU()\n",
       "          (5): SamePadConv3d(\n",
       "            (conv): Conv3d(120, 240, kernel_size=(1, 1, 1), stride=(1, 1, 1), bias=False)\n",
       "          )\n",
       "          (6): BatchNorm3d(240, eps=1e-05, momentum=0.1, affine=True, track_running_stats=True)\n",
       "          (7): ReLU()\n",
       "          (8): AxialBlock(\n",
       "            (attn_w): MultiHeadAttention(\n",
       "              (w_qs): Linear(in_features=240, out_features=240, bias=False)\n",
       "              (w_ks): Linear(in_features=240, out_features=240, bias=False)\n",
       "              (w_vs): Linear(in_features=240, out_features=240, bias=False)\n",
       "              (fc): Linear(in_features=240, out_features=240, bias=True)\n",
       "              (attn): AxialAttention()\n",
       "            )\n",
       "            (attn_h): MultiHeadAttention(\n",
       "              (w_qs): Linear(in_features=240, out_features=240, bias=False)\n",
       "              (w_ks): Linear(in_features=240, out_features=240, bias=False)\n",
       "              (w_vs): Linear(in_features=240, out_features=240, bias=False)\n",
       "              (fc): Linear(in_features=240, out_features=240, bias=True)\n",
       "              (attn): AxialAttention()\n",
       "            )\n",
       "            (attn_t): MultiHeadAttention(\n",
       "              (w_qs): Linear(in_features=240, out_features=240, bias=False)\n",
       "              (w_ks): Linear(in_features=240, out_features=240, bias=False)\n",
       "              (w_vs): Linear(in_features=240, out_features=240, bias=False)\n",
       "              (fc): Linear(in_features=240, out_features=240, bias=True)\n",
       "              (attn): AxialAttention()\n",
       "            )\n",
       "          )\n",
       "        )\n",
       "      )\n",
       "      (2): BatchNorm3d(240, eps=1e-05, momentum=0.1, affine=True, track_running_stats=True)\n",
       "      (3): ReLU()\n",
       "    )\n",
       "    (convts): ModuleList(\n",
       "      (0): SamePadConvTranspose3d(\n",
       "        (convt): ConvTranspose3d(240, 240, kernel_size=(4, 4, 4), stride=(2, 2, 2), padding=(3, 3, 3))\n",
       "      )\n",
       "      (1): SamePadConvTranspose3d(\n",
       "        (convt): ConvTranspose3d(240, 3, kernel_size=(4, 4, 4), stride=(2, 2, 2), padding=(3, 3, 3))\n",
       "      )\n",
       "    )\n",
       "  )\n",
       "  (pre_vq_conv): SamePadConv3d(\n",
       "    (conv): Conv3d(240, 64, kernel_size=(1, 1, 1), stride=(1, 1, 1))\n",
       "  )\n",
       "  (post_vq_conv): SamePadConv3d(\n",
       "    (conv): Conv3d(64, 240, kernel_size=(1, 1, 1), stride=(1, 1, 1))\n",
       "  )\n",
       "  (codebook): Codebook()\n",
       ")"
      ]
     },
     "execution_count": 43,
     "metadata": {},
     "output_type": "execute_result"
    }
   ],
   "source": [
    "model = VQVAE.load_from_checkpoint(\"/space/ddenblanken/Projects/VideoGPT/moving_mnist_vqvae/gp6vdxl9/checkpoints/epoch=82-step=25979.ckpt\")\n",
    "\n",
    "# disable randomness, dropout, etc...\n",
    "model.eval()"
   ]
  },
  {
   "cell_type": "code",
   "execution_count": 44,
   "metadata": {},
   "outputs": [
    {
     "ename": "FileNotFoundError",
     "evalue": "[Errno 2] Unable to synchronously open file (unable to open file: name = './moving_mnist.h5', errno = 2, error message = 'No such file or directory', flags = 0, o_flags = 0)",
     "output_type": "error",
     "traceback": [
      "\u001b[0;31m---------------------------------------------------------------------------\u001b[0m",
      "\u001b[0;31mFileNotFoundError\u001b[0m                         Traceback (most recent call last)",
      "Cell \u001b[0;32mIn[44], line 3\u001b[0m\n\u001b[1;32m      1\u001b[0m data \u001b[38;5;241m=\u001b[39m VideoData(model\u001b[38;5;241m.\u001b[39margs)\n\u001b[0;32m----> 3\u001b[0m val_dataset \u001b[38;5;241m=\u001b[39m \u001b[43mdata\u001b[49m\u001b[38;5;241;43m.\u001b[39;49m\u001b[43m_dataset\u001b[49m\u001b[43m(\u001b[49m\u001b[38;5;28;43;01mTrue\u001b[39;49;00m\u001b[43m)\u001b[49m\n\u001b[1;32m      5\u001b[0m train_datalaoder \u001b[38;5;241m=\u001b[39m data\u001b[38;5;241m.\u001b[39mtrain_dataloader()\n",
      "File \u001b[0;32m/space/ddenblanken/Projects/VideoGPT/videogpt/data.py:183\u001b[0m, in \u001b[0;36mVideoData._dataset\u001b[0;34m(self, train)\u001b[0m\n\u001b[1;32m    181\u001b[0m \u001b[38;5;28;01mdef\u001b[39;00m \u001b[38;5;21m_dataset\u001b[39m(\u001b[38;5;28mself\u001b[39m, train):\n\u001b[1;32m    182\u001b[0m     Dataset \u001b[38;5;241m=\u001b[39m VideoDataset \u001b[38;5;28;01mif\u001b[39;00m osp\u001b[38;5;241m.\u001b[39misdir(\u001b[38;5;28mself\u001b[39m\u001b[38;5;241m.\u001b[39margs\u001b[38;5;241m.\u001b[39mdata_path) \u001b[38;5;28;01melse\u001b[39;00m HDF5Dataset\n\u001b[0;32m--> 183\u001b[0m     dataset \u001b[38;5;241m=\u001b[39m \u001b[43mDataset\u001b[49m\u001b[43m(\u001b[49m\u001b[38;5;28;43mself\u001b[39;49m\u001b[38;5;241;43m.\u001b[39;49m\u001b[43margs\u001b[49m\u001b[38;5;241;43m.\u001b[39;49m\u001b[43mdata_path\u001b[49m\u001b[43m,\u001b[49m\u001b[43m \u001b[49m\u001b[38;5;28;43mself\u001b[39;49m\u001b[38;5;241;43m.\u001b[39;49m\u001b[43margs\u001b[49m\u001b[38;5;241;43m.\u001b[39;49m\u001b[43msequence_length\u001b[49m\u001b[43m,\u001b[49m\n\u001b[1;32m    184\u001b[0m \u001b[43m                      \u001b[49m\u001b[43mtrain\u001b[49m\u001b[38;5;241;43m=\u001b[39;49m\u001b[43mtrain\u001b[49m\u001b[43m,\u001b[49m\u001b[43m \u001b[49m\u001b[43mresolution\u001b[49m\u001b[38;5;241;43m=\u001b[39;49m\u001b[38;5;28;43mself\u001b[39;49m\u001b[38;5;241;43m.\u001b[39;49m\u001b[43margs\u001b[49m\u001b[38;5;241;43m.\u001b[39;49m\u001b[43mresolution\u001b[49m\u001b[43m)\u001b[49m\n\u001b[1;32m    185\u001b[0m     \u001b[38;5;28;01mreturn\u001b[39;00m dataset\n",
      "File \u001b[0;32m/space/ddenblanken/Projects/VideoGPT/videogpt/data.py:132\u001b[0m, in \u001b[0;36mHDF5Dataset.__init__\u001b[0;34m(self, data_file, sequence_length, train, resolution)\u001b[0m\n\u001b[1;32m    130\u001b[0m \u001b[38;5;66;03m# read in data\u001b[39;00m\n\u001b[1;32m    131\u001b[0m \u001b[38;5;28mself\u001b[39m\u001b[38;5;241m.\u001b[39mdata_file \u001b[38;5;241m=\u001b[39m data_file\n\u001b[0;32m--> 132\u001b[0m \u001b[38;5;28mself\u001b[39m\u001b[38;5;241m.\u001b[39mdata \u001b[38;5;241m=\u001b[39m \u001b[43mh5py\u001b[49m\u001b[38;5;241;43m.\u001b[39;49m\u001b[43mFile\u001b[49m\u001b[43m(\u001b[49m\u001b[43mdata_file\u001b[49m\u001b[43m,\u001b[49m\u001b[43m \u001b[49m\u001b[38;5;124;43m'\u001b[39;49m\u001b[38;5;124;43mr\u001b[39;49m\u001b[38;5;124;43m'\u001b[39;49m\u001b[43m)\u001b[49m\n\u001b[1;32m    133\u001b[0m \u001b[38;5;28mself\u001b[39m\u001b[38;5;241m.\u001b[39mprefix \u001b[38;5;241m=\u001b[39m \u001b[38;5;124m'\u001b[39m\u001b[38;5;124mtrain\u001b[39m\u001b[38;5;124m'\u001b[39m \u001b[38;5;28;01mif\u001b[39;00m train \u001b[38;5;28;01melse\u001b[39;00m \u001b[38;5;124m'\u001b[39m\u001b[38;5;124mtest\u001b[39m\u001b[38;5;124m'\u001b[39m\n\u001b[1;32m    134\u001b[0m \u001b[38;5;28mself\u001b[39m\u001b[38;5;241m.\u001b[39m_images \u001b[38;5;241m=\u001b[39m \u001b[38;5;28mself\u001b[39m\u001b[38;5;241m.\u001b[39mdata[\u001b[38;5;124mf\u001b[39m\u001b[38;5;124m'\u001b[39m\u001b[38;5;132;01m{\u001b[39;00m\u001b[38;5;28mself\u001b[39m\u001b[38;5;241m.\u001b[39mprefix\u001b[38;5;132;01m}\u001b[39;00m\u001b[38;5;124m_data\u001b[39m\u001b[38;5;124m'\u001b[39m]\n",
      "File \u001b[0;32m/space/ddenblanken/Environments/video_gpt/lib/python3.11/site-packages/h5py/_hl/files.py:562\u001b[0m, in \u001b[0;36mFile.__init__\u001b[0;34m(self, name, mode, driver, libver, userblock_size, swmr, rdcc_nslots, rdcc_nbytes, rdcc_w0, track_order, fs_strategy, fs_persist, fs_threshold, fs_page_size, page_buf_size, min_meta_keep, min_raw_keep, locking, alignment_threshold, alignment_interval, meta_block_size, **kwds)\u001b[0m\n\u001b[1;32m    553\u001b[0m     fapl \u001b[38;5;241m=\u001b[39m make_fapl(driver, libver, rdcc_nslots, rdcc_nbytes, rdcc_w0,\n\u001b[1;32m    554\u001b[0m                      locking, page_buf_size, min_meta_keep, min_raw_keep,\n\u001b[1;32m    555\u001b[0m                      alignment_threshold\u001b[38;5;241m=\u001b[39malignment_threshold,\n\u001b[1;32m    556\u001b[0m                      alignment_interval\u001b[38;5;241m=\u001b[39malignment_interval,\n\u001b[1;32m    557\u001b[0m                      meta_block_size\u001b[38;5;241m=\u001b[39mmeta_block_size,\n\u001b[1;32m    558\u001b[0m                      \u001b[38;5;241m*\u001b[39m\u001b[38;5;241m*\u001b[39mkwds)\n\u001b[1;32m    559\u001b[0m     fcpl \u001b[38;5;241m=\u001b[39m make_fcpl(track_order\u001b[38;5;241m=\u001b[39mtrack_order, fs_strategy\u001b[38;5;241m=\u001b[39mfs_strategy,\n\u001b[1;32m    560\u001b[0m                      fs_persist\u001b[38;5;241m=\u001b[39mfs_persist, fs_threshold\u001b[38;5;241m=\u001b[39mfs_threshold,\n\u001b[1;32m    561\u001b[0m                      fs_page_size\u001b[38;5;241m=\u001b[39mfs_page_size)\n\u001b[0;32m--> 562\u001b[0m     fid \u001b[38;5;241m=\u001b[39m \u001b[43mmake_fid\u001b[49m\u001b[43m(\u001b[49m\u001b[43mname\u001b[49m\u001b[43m,\u001b[49m\u001b[43m \u001b[49m\u001b[43mmode\u001b[49m\u001b[43m,\u001b[49m\u001b[43m \u001b[49m\u001b[43muserblock_size\u001b[49m\u001b[43m,\u001b[49m\u001b[43m \u001b[49m\u001b[43mfapl\u001b[49m\u001b[43m,\u001b[49m\u001b[43m \u001b[49m\u001b[43mfcpl\u001b[49m\u001b[43m,\u001b[49m\u001b[43m \u001b[49m\u001b[43mswmr\u001b[49m\u001b[38;5;241;43m=\u001b[39;49m\u001b[43mswmr\u001b[49m\u001b[43m)\u001b[49m\n\u001b[1;32m    564\u001b[0m \u001b[38;5;28;01mif\u001b[39;00m \u001b[38;5;28misinstance\u001b[39m(libver, \u001b[38;5;28mtuple\u001b[39m):\n\u001b[1;32m    565\u001b[0m     \u001b[38;5;28mself\u001b[39m\u001b[38;5;241m.\u001b[39m_libver \u001b[38;5;241m=\u001b[39m libver\n",
      "File \u001b[0;32m/space/ddenblanken/Environments/video_gpt/lib/python3.11/site-packages/h5py/_hl/files.py:235\u001b[0m, in \u001b[0;36mmake_fid\u001b[0;34m(name, mode, userblock_size, fapl, fcpl, swmr)\u001b[0m\n\u001b[1;32m    233\u001b[0m     \u001b[38;5;28;01mif\u001b[39;00m swmr \u001b[38;5;129;01mand\u001b[39;00m swmr_support:\n\u001b[1;32m    234\u001b[0m         flags \u001b[38;5;241m|\u001b[39m\u001b[38;5;241m=\u001b[39m h5f\u001b[38;5;241m.\u001b[39mACC_SWMR_READ\n\u001b[0;32m--> 235\u001b[0m     fid \u001b[38;5;241m=\u001b[39m \u001b[43mh5f\u001b[49m\u001b[38;5;241;43m.\u001b[39;49m\u001b[43mopen\u001b[49m\u001b[43m(\u001b[49m\u001b[43mname\u001b[49m\u001b[43m,\u001b[49m\u001b[43m \u001b[49m\u001b[43mflags\u001b[49m\u001b[43m,\u001b[49m\u001b[43m \u001b[49m\u001b[43mfapl\u001b[49m\u001b[38;5;241;43m=\u001b[39;49m\u001b[43mfapl\u001b[49m\u001b[43m)\u001b[49m\n\u001b[1;32m    236\u001b[0m \u001b[38;5;28;01melif\u001b[39;00m mode \u001b[38;5;241m==\u001b[39m \u001b[38;5;124m'\u001b[39m\u001b[38;5;124mr+\u001b[39m\u001b[38;5;124m'\u001b[39m:\n\u001b[1;32m    237\u001b[0m     fid \u001b[38;5;241m=\u001b[39m h5f\u001b[38;5;241m.\u001b[39mopen(name, h5f\u001b[38;5;241m.\u001b[39mACC_RDWR, fapl\u001b[38;5;241m=\u001b[39mfapl)\n",
      "File \u001b[0;32mh5py/_objects.pyx:54\u001b[0m, in \u001b[0;36mh5py._objects.with_phil.wrapper\u001b[0;34m()\u001b[0m\n",
      "File \u001b[0;32mh5py/_objects.pyx:55\u001b[0m, in \u001b[0;36mh5py._objects.with_phil.wrapper\u001b[0;34m()\u001b[0m\n",
      "File \u001b[0;32mh5py/h5f.pyx:102\u001b[0m, in \u001b[0;36mh5py.h5f.open\u001b[0;34m()\u001b[0m\n",
      "\u001b[0;31mFileNotFoundError\u001b[0m: [Errno 2] Unable to synchronously open file (unable to open file: name = './moving_mnist.h5', errno = 2, error message = 'No such file or directory', flags = 0, o_flags = 0)"
     ]
    }
   ],
   "source": [
    "data = VideoData(model.args)\n",
    "\n",
    "val_dataset = data._dataset(True)\n",
    "\n",
    "train_datalaoder = data.train_dataloader()"
   ]
  },
  {
   "cell_type": "code",
   "execution_count": 17,
   "metadata": {},
   "outputs": [],
   "source": [
    "# Get one batch of data\n",
    "for batch in train_datalaoder:\n",
    "    break"
   ]
  },
  {
   "cell_type": "code",
   "execution_count": 18,
   "metadata": {},
   "outputs": [],
   "source": [
    "\n",
    "\n",
    "video = batch['video'][0].permute(1, 2, 3, 0).numpy()"
   ]
  },
  {
   "cell_type": "code",
   "execution_count": 26,
   "metadata": {},
   "outputs": [],
   "source": [
    "video = batch['video'][0].permute(1, 2, 3, 0)"
   ]
  },
  {
   "cell_type": "code",
   "execution_count": 25,
   "metadata": {},
   "outputs": [
    {
     "name": "stderr",
     "output_type": "stream",
     "text": [
      "Clipping input data to the valid range for imshow with RGB data ([0..1] for floats or [0..255] for integers).\n",
      "Clipping input data to the valid range for imshow with RGB data ([0..1] for floats or [0..255] for integers).\n",
      "Clipping input data to the valid range for imshow with RGB data ([0..1] for floats or [0..255] for integers).\n",
      "Clipping input data to the valid range for imshow with RGB data ([0..1] for floats or [0..255] for integers).\n",
      "Clipping input data to the valid range for imshow with RGB data ([0..1] for floats or [0..255] for integers).\n",
      "Clipping input data to the valid range for imshow with RGB data ([0..1] for floats or [0..255] for integers).\n",
      "Clipping input data to the valid range for imshow with RGB data ([0..1] for floats or [0..255] for integers).\n",
      "Clipping input data to the valid range for imshow with RGB data ([0..1] for floats or [0..255] for integers).\n",
      "Clipping input data to the valid range for imshow with RGB data ([0..1] for floats or [0..255] for integers).\n",
      "Clipping input data to the valid range for imshow with RGB data ([0..1] for floats or [0..255] for integers).\n",
      "Clipping input data to the valid range for imshow with RGB data ([0..1] for floats or [0..255] for integers).\n",
      "Clipping input data to the valid range for imshow with RGB data ([0..1] for floats or [0..255] for integers).\n",
      "Clipping input data to the valid range for imshow with RGB data ([0..1] for floats or [0..255] for integers).\n",
      "Clipping input data to the valid range for imshow with RGB data ([0..1] for floats or [0..255] for integers).\n",
      "Clipping input data to the valid range for imshow with RGB data ([0..1] for floats or [0..255] for integers).\n",
      "Clipping input data to the valid range for imshow with RGB data ([0..1] for floats or [0..255] for integers).\n"
     ]
    },
    {
     "data": {
      "image/png": "[encoded data removed]",
      "text/plain": [
       "<Figure size 1600x100 with 16 Axes>"
      ]
     },
     "metadata": {},
     "output_type": "display_data"
    }
   ],
   "source": [
    "import numpy as np\n",
    "import matplotlib.pyplot as plt\n",
    "\n",
    "index = 8\n",
    "\n",
    "fig, ax = plt.subplots(1, 16, figsize=(16, 1))\n",
    "\n",
    "for i in range(16):\n",
    "    ax[i].imshow(video[0])\n",
    "    ax[i].axis(\"off\")"
   ]
  },
  {
   "cell_type": "code",
   "execution_count": 25,
   "metadata": {},
   "outputs": [
    {
     "ename": "KeyboardInterrupt",
     "evalue": "",
     "output_type": "error",
     "traceback": [
      "\u001b[0;31m---------------------------------------------------------------------------\u001b[0m",
      "\u001b[0;31mKeyboardInterrupt\u001b[0m                         Traceback (most recent call last)",
      "Cell \u001b[0;32mIn[25], line 7\u001b[0m\n\u001b[1;32m      4\u001b[0m index \u001b[38;5;241m=\u001b[39m \u001b[38;5;241m0\u001b[39m\n\u001b[1;32m      6\u001b[0m fig, ax \u001b[38;5;241m=\u001b[39m plt\u001b[38;5;241m.\u001b[39msubplots(\u001b[38;5;241m1\u001b[39m, \u001b[38;5;241m16\u001b[39m, figsize\u001b[38;5;241m=\u001b[39m(\u001b[38;5;241m16\u001b[39m, \u001b[38;5;241m1\u001b[39m))\n\u001b[0;32m----> 7\u001b[0m video \u001b[38;5;241m=\u001b[39m \u001b[43mval_dataset\u001b[49m\u001b[43m[\u001b[49m\u001b[43mindex\u001b[49m\u001b[43m]\u001b[49m[\u001b[38;5;124m'\u001b[39m\u001b[38;5;124mvideo\u001b[39m\u001b[38;5;124m'\u001b[39m]\u001b[38;5;241m.\u001b[39mpermute(\u001b[38;5;241m1\u001b[39m, \u001b[38;5;241m2\u001b[39m, \u001b[38;5;241m3\u001b[39m, \u001b[38;5;241m0\u001b[39m)\u001b[38;5;241m.\u001b[39mnumpy()\n\u001b[1;32m      9\u001b[0m \u001b[38;5;28;01mfor\u001b[39;00m i \u001b[38;5;129;01min\u001b[39;00m \u001b[38;5;28mrange\u001b[39m(\u001b[38;5;241m16\u001b[39m):\n\u001b[1;32m     10\u001b[0m     ax[i]\u001b[38;5;241m.\u001b[39mimshow(video[\u001b[38;5;241m0\u001b[39m])\n",
      "File \u001b[0;32m/space/ddenblanken/Projects/VideoGPT/videogpt/data.py:166\u001b[0m, in \u001b[0;36mHDF5Dataset.__getitem__\u001b[0;34m(self, idx)\u001b[0m\n\u001b[1;32m    164\u001b[0m \u001b[38;5;28;01massert\u001b[39;00m start \u001b[38;5;241m<\u001b[39m start \u001b[38;5;241m+\u001b[39m \u001b[38;5;28mself\u001b[39m\u001b[38;5;241m.\u001b[39msequence_length \u001b[38;5;241m<\u001b[39m\u001b[38;5;241m=\u001b[39m end\n\u001b[1;32m    165\u001b[0m video \u001b[38;5;241m=\u001b[39m torch\u001b[38;5;241m.\u001b[39mtensor(\u001b[38;5;28mself\u001b[39m\u001b[38;5;241m.\u001b[39m_images[start:start \u001b[38;5;241m+\u001b[39m \u001b[38;5;28mself\u001b[39m\u001b[38;5;241m.\u001b[39msequence_length])\n\u001b[0;32m--> 166\u001b[0m \u001b[38;5;28;01mreturn\u001b[39;00m \u001b[38;5;28;43mdict\u001b[39;49m(video\u001b[38;5;241m=\u001b[39mpreprocess(video, \u001b[38;5;28mself\u001b[39m\u001b[38;5;241m.\u001b[39mresolution))\n",
      "File \u001b[0;32m/space/ddenblanken/Projects/VideoGPT/videogpt/data.py:166\u001b[0m, in \u001b[0;36mHDF5Dataset.__getitem__\u001b[0;34m(self, idx)\u001b[0m\n\u001b[1;32m    164\u001b[0m \u001b[38;5;28;01massert\u001b[39;00m start \u001b[38;5;241m<\u001b[39m start \u001b[38;5;241m+\u001b[39m \u001b[38;5;28mself\u001b[39m\u001b[38;5;241m.\u001b[39msequence_length \u001b[38;5;241m<\u001b[39m\u001b[38;5;241m=\u001b[39m end\n\u001b[1;32m    165\u001b[0m video \u001b[38;5;241m=\u001b[39m torch\u001b[38;5;241m.\u001b[39mtensor(\u001b[38;5;28mself\u001b[39m\u001b[38;5;241m.\u001b[39m_images[start:start \u001b[38;5;241m+\u001b[39m \u001b[38;5;28mself\u001b[39m\u001b[38;5;241m.\u001b[39msequence_length])\n\u001b[0;32m--> 166\u001b[0m \u001b[38;5;28;01mreturn\u001b[39;00m \u001b[38;5;28;43mdict\u001b[39;49m(video\u001b[38;5;241m=\u001b[39mpreprocess(video, \u001b[38;5;28mself\u001b[39m\u001b[38;5;241m.\u001b[39mresolution))\n",
      "File \u001b[0;32m_pydevd_bundle/pydevd_cython.pyx:1457\u001b[0m, in \u001b[0;36m_pydevd_bundle.pydevd_cython.SafeCallWrapper.__call__\u001b[0;34m()\u001b[0m\n",
      "File \u001b[0;32m_pydevd_bundle/pydevd_cython.pyx:701\u001b[0m, in \u001b[0;36m_pydevd_bundle.pydevd_cython.PyDBFrame.trace_dispatch\u001b[0;34m()\u001b[0m\n",
      "File \u001b[0;32m_pydevd_bundle/pydevd_cython.pyx:1152\u001b[0m, in \u001b[0;36m_pydevd_bundle.pydevd_cython.PyDBFrame.trace_dispatch\u001b[0;34m()\u001b[0m\n",
      "File \u001b[0;32m_pydevd_bundle/pydevd_cython.pyx:1135\u001b[0m, in \u001b[0;36m_pydevd_bundle.pydevd_cython.PyDBFrame.trace_dispatch\u001b[0;34m()\u001b[0m\n",
      "File \u001b[0;32m_pydevd_bundle/pydevd_cython.pyx:312\u001b[0m, in \u001b[0;36m_pydevd_bundle.pydevd_cython.PyDBFrame.do_wait_suspend\u001b[0;34m()\u001b[0m\n",
      "File \u001b[0;32m/space/ddenblanken/Environments/video_gpt/lib/python3.11/site-packages/debugpy/_vendored/pydevd/pydevd.py:2070\u001b[0m, in \u001b[0;36mPyDB.do_wait_suspend\u001b[0;34m(self, thread, frame, event, arg, exception_type)\u001b[0m\n\u001b[1;32m   2067\u001b[0m             from_this_thread\u001b[38;5;241m.\u001b[39mappend(frame_custom_thread_id)\n\u001b[1;32m   2069\u001b[0m     \u001b[38;5;28;01mwith\u001b[39;00m \u001b[38;5;28mself\u001b[39m\u001b[38;5;241m.\u001b[39m_threads_suspended_single_notification\u001b[38;5;241m.\u001b[39mnotify_thread_suspended(thread_id, thread, stop_reason):\n\u001b[0;32m-> 2070\u001b[0m         keep_suspended \u001b[38;5;241m=\u001b[39m \u001b[38;5;28;43mself\u001b[39;49m\u001b[38;5;241;43m.\u001b[39;49m\u001b[43m_do_wait_suspend\u001b[49m\u001b[43m(\u001b[49m\u001b[43mthread\u001b[49m\u001b[43m,\u001b[49m\u001b[43m \u001b[49m\u001b[43mframe\u001b[49m\u001b[43m,\u001b[49m\u001b[43m \u001b[49m\u001b[43mevent\u001b[49m\u001b[43m,\u001b[49m\u001b[43m \u001b[49m\u001b[43marg\u001b[49m\u001b[43m,\u001b[49m\u001b[43m \u001b[49m\u001b[43msuspend_type\u001b[49m\u001b[43m,\u001b[49m\u001b[43m \u001b[49m\u001b[43mfrom_this_thread\u001b[49m\u001b[43m,\u001b[49m\u001b[43m \u001b[49m\u001b[43mframes_tracker\u001b[49m\u001b[43m)\u001b[49m\n\u001b[1;32m   2072\u001b[0m frames_list \u001b[38;5;241m=\u001b[39m \u001b[38;5;28;01mNone\u001b[39;00m\n\u001b[1;32m   2074\u001b[0m \u001b[38;5;28;01mif\u001b[39;00m keep_suspended:\n\u001b[1;32m   2075\u001b[0m     \u001b[38;5;66;03m# This means that we should pause again after a set next statement.\u001b[39;00m\n",
      "File \u001b[0;32m/space/ddenblanken/Environments/video_gpt/lib/python3.11/site-packages/debugpy/_vendored/pydevd/pydevd.py:2106\u001b[0m, in \u001b[0;36mPyDB._do_wait_suspend\u001b[0;34m(self, thread, frame, event, arg, suspend_type, from_this_thread, frames_tracker)\u001b[0m\n\u001b[1;32m   2103\u001b[0m         \u001b[38;5;28mself\u001b[39m\u001b[38;5;241m.\u001b[39m_call_input_hook()\n\u001b[1;32m   2105\u001b[0m     \u001b[38;5;28mself\u001b[39m\u001b[38;5;241m.\u001b[39mprocess_internal_commands()\n\u001b[0;32m-> 2106\u001b[0m     time\u001b[38;5;241m.\u001b[39msleep(\u001b[38;5;241m0.01\u001b[39m)\n\u001b[1;32m   2108\u001b[0m \u001b[38;5;28mself\u001b[39m\u001b[38;5;241m.\u001b[39mcancel_async_evaluation(get_current_thread_id(thread), \u001b[38;5;28mstr\u001b[39m(\u001b[38;5;28mid\u001b[39m(frame)))\n\u001b[1;32m   2110\u001b[0m \u001b[38;5;66;03m# process any stepping instructions\u001b[39;00m\n",
      "\u001b[0;31mKeyboardInterrupt\u001b[0m: "
     ]
    },
    {
     "data": {
      "image/png": "[encoded data removed]",
      "text/plain": [
       "<Figure size 1600x100 with 16 Axes>"
      ]
     },
     "metadata": {},
     "output_type": "display_data"
    }
   ],
   "source": [
    "import numpy as np\n",
    "import matplotlib.pyplot as plt\n",
    "\n",
    "index = 0\n",
    "\n",
    "fig, ax = plt.subplots(1, 16, figsize=(16, 1))\n",
    "video = val_dataset[index]['video'].permute(1, 2, 3, 0).numpy()\n",
    "\n",
    "for i in range(16):\n",
    "    ax[i].imshow(video[0])\n",
    "    ax[i].axis(\"off\")"
   ]
  },
  {
   "cell_type": "code",
   "execution_count": null,
   "metadata": {},
   "outputs": [],
   "source": []
  }
 ],
 "metadata": {
  "kernelspec": {
   "display_name": "meta_learning_arena",
   "language": "python",
   "name": "python3"
  },
  "language_info": {
   "codemirror_mode": {
    "name": "ipython",
    "version": 3
   },
   "file_extension": ".py",
   "mimetype": "text/x-python",
   "name": "python",
   "nbconvert_exporter": "python",
   "pygments_lexer": "ipython3",
   "version": "3.11.7"
  }
 },
 "nbformat": 4,
 "nbformat_minor": 2
}
